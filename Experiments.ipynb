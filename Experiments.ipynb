{
 "cells": [
  {
   "cell_type": "code",
   "execution_count": 18,
   "metadata": {},
   "outputs": [],
   "source": [
    "from MultiRouteViz import *"
   ]
  },
  {
   "cell_type": "code",
   "execution_count": 20,
   "metadata": {},
   "outputs": [
    {
     "ename": "TypeError",
     "evalue": "arrow() missing 4 required positional arguments: 'x', 'y', 'dx', and 'dy'",
     "output_type": "error",
     "traceback": [
      "\u001b[0;31m---------------------------------------------------------------------------\u001b[0m",
      "\u001b[0;31mTypeError\u001b[0m                                 Traceback (most recent call last)",
      "\u001b[1;32m/Users/williamzhang/Documents/College/coe322-wzhang/amazon-delivery/Experiments.ipynb Cell 2\u001b[0m line \u001b[0;36m<cell line: 1>\u001b[0;34m()\u001b[0m\n\u001b[0;32m----> <a href='vscode-notebook-cell:/Users/williamzhang/Documents/College/coe322-wzhang/amazon-delivery/Experiments.ipynb#W1sZmlsZQ%3D%3D?line=0'>1</a>\u001b[0m plt\u001b[39m.\u001b[39;49marrow()\n\u001b[1;32m      <a href='vscode-notebook-cell:/Users/williamzhang/Documents/College/coe322-wzhang/amazon-delivery/Experiments.ipynb#W1sZmlsZQ%3D%3D?line=1'>2</a>\u001b[0m plt\u001b[39m.\u001b[39mfigure()\n\u001b[1;32m      <a href='vscode-notebook-cell:/Users/williamzhang/Documents/College/coe322-wzhang/amazon-delivery/Experiments.ipynb#W1sZmlsZQ%3D%3D?line=2'>3</a>\u001b[0m display_route(\u001b[39m'\u001b[39m\u001b[39msaved_routes/MultiRouteOpt.txt\u001b[39m\u001b[39m'\u001b[39m)\n",
      "\u001b[0;31mTypeError\u001b[0m: arrow() missing 4 required positional arguments: 'x', 'y', 'dx', and 'dy'"
     ]
    }
   ],
   "source": [
    "\n",
    "plt.figure()\n",
    "display_route('saved_routes/MultiRouteOpt.txt')\n",
    "\n",
    "plt.figure()\n",
    "display_route('saved_routes/MultiRouteUnOpt.txt')"
   ]
  }
 ],
 "metadata": {
  "kernelspec": {
   "display_name": "base",
   "language": "python",
   "name": "python3"
  },
  "language_info": {
   "codemirror_mode": {
    "name": "ipython",
    "version": 3
   },
   "file_extension": ".py",
   "mimetype": "text/x-python",
   "name": "python",
   "nbconvert_exporter": "python",
   "pygments_lexer": "ipython3",
   "version": "3.9.13"
  }
 },
 "nbformat": 4,
 "nbformat_minor": 2
}
